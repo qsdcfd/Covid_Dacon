{
  "cells": [
    {
      "cell_type": "markdown",
      "id": "3f2e0e9d",
      "metadata": {
        "id": "3f2e0e9d"
      },
      "source": [
        "## Import"
      ]
    },
    {
      "cell_type": "code",
      "execution_count": null,
      "id": "e1518435",
      "metadata": {
        "id": "e1518435"
      },
      "outputs": [],
      "source": [
        "import random\n",
        "import pandas as pd\n",
        "import numpy as np\n",
        "import os\n",
        "import librosa\n",
        "\n",
        "from tqdm.auto import tqdm\n",
        "\n",
        "from sklearn.neural_network import MLPClassifier\n",
        "from sklearn.preprocessing import OneHotEncoder\n",
        "from sklearn.metrics import accuracy_score, confusion_matrix, f1_score\n",
        "\n",
        "import warnings\n",
        "warnings.filterwarnings(action='ignore') "
      ]
    },
    {
      "cell_type": "markdown",
      "id": "5da4aa90",
      "metadata": {
        "id": "5da4aa90"
      },
      "source": [
        "## Load Data"
      ]
    },
    {
      "cell_type": "code",
      "execution_count": null,
      "id": "5ff61821",
      "metadata": {
        "id": "5ff61821"
      },
      "outputs": [],
      "source": [
        "def preprocessing(file_train):\n",
        "    train_df = pd.read_csv(file_train)\n",
        "    \n",
        "    train_x = train_df.drop(columns=['id', 'covid19'])\n",
        "    train_y = train_df['covid19']\n",
        "    \n",
        "    def onehot_encoding(ohe, x):\n",
        "        # 학습데이터로 부터 fit된 one-hot encoder (ohe)를 받아 transform 시켜주는 함수\n",
        "        encoded = ohe.transform(x['gender'].values.reshape(-1,1))\n",
        "        encoded_df = pd.DataFrame(encoded, columns=ohe.categories_[0])\n",
        "        x = pd.concat([x.drop(columns=['gender']), encoded_df], axis=1)\n",
        "        return x\n",
        "\n",
        "    # 'gender' column의 경우 추가 전처리가 필요 -> OneHotEncoder 적용\n",
        "    ohe = OneHotEncoder(sparse=False)\n",
        "    ohe.fit(train_x['gender'].values.reshape(-1,1))\n",
        "    train_x = onehot_encoding(ohe, train_x)\n",
        "    \n",
        "    \n",
        "    model = MLPClassifier(random_state=41)\n",
        "    model.fit(train_x, train_y)\n",
        "    \n",
        "    pred = model.predict(train_x)\n",
        "    print(f\"accuracy score: {accuracy_score(train_y, pred)}\")\n",
        "    print(confusion_matrix(train_y, pred))\n",
        "    print(f1_score(train_y, pred))\n",
        "    "
      ]
    },
    {
      "cell_type": "markdown",
      "id": "5ea1d189",
      "metadata": {
        "id": "5ea1d189"
      },
      "source": [
        "### MFCC 32"
      ]
    },
    {
      "cell_type": "code",
      "execution_count": null,
      "id": "d9a92b01",
      "metadata": {
        "id": "d9a92b01",
        "outputId": "45789347-c010-4a96-a209-5f5402cf4380"
      },
      "outputs": [
        {
          "name": "stdout",
          "output_type": "stream",
          "text": [
            "accuracy score: 0.9038107752956636\n",
            "[[3348  151]\n",
            " [ 215   91]]\n",
            "0.3321167883211679\n"
          ]
        }
      ],
      "source": [
        "preprocessing('./train_mfcc_data.csv')\n",
        "\n"
      ]
    },
    {
      "cell_type": "markdown",
      "id": "8f42f649",
      "metadata": {
        "id": "8f42f649"
      },
      "source": [
        "### MFCC 16"
      ]
    },
    {
      "cell_type": "code",
      "execution_count": null,
      "id": "b8219af9",
      "metadata": {
        "id": "b8219af9",
        "outputId": "20893ce8-b61f-4485-ed1a-e526b9465e0e"
      },
      "outputs": [
        {
          "name": "stdout",
          "output_type": "stream",
          "text": [
            "accuracy score: 0.9195795006570302\n",
            "[[3496    3]\n",
            " [ 303    3]]\n",
            "0.019230769230769232\n"
          ]
        }
      ],
      "source": [
        "preprocessing('./train_mfcc_data(16).csv')"
      ]
    },
    {
      "cell_type": "markdown",
      "id": "948ae817",
      "metadata": {
        "id": "948ae817"
      },
      "source": [
        "### MFCC 64"
      ]
    },
    {
      "cell_type": "code",
      "execution_count": null,
      "id": "8eb54fb4",
      "metadata": {
        "id": "8eb54fb4",
        "outputId": "f895b9d1-ff7d-423c-fc32-04d3e7da6048"
      },
      "outputs": [
        {
          "name": "stdout",
          "output_type": "stream",
          "text": [
            "accuracy score: 0.9256241787122208\n",
            "[[3491    8]\n",
            " [ 275   31]]\n",
            "0.17971014492753623\n"
          ]
        }
      ],
      "source": [
        "preprocessing('./train_mfcc_data(64).csv')"
      ]
    },
    {
      "cell_type": "code",
      "execution_count": null,
      "id": "266e74ac",
      "metadata": {
        "id": "266e74ac"
      },
      "outputs": [],
      "source": [
        ""
      ]
    }
  ],
  "metadata": {
    "kernelspec": {
      "display_name": "Python 3 (ipykernel)",
      "language": "python",
      "name": "python3"
    },
    "language_info": {
      "codemirror_mode": {
        "name": "ipython",
        "version": 3
      },
      "file_extension": ".py",
      "mimetype": "text/x-python",
      "name": "python",
      "nbconvert_exporter": "python",
      "pygments_lexer": "ipython3",
      "version": "3.8.13"
    },
    "colab": {
      "name": "MFCC_val_compare_f1Score_0612.ipynb",
      "provenance": []
    }
  },
  "nbformat": 4,
  "nbformat_minor": 5
}