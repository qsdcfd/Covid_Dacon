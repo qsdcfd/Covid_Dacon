{
  "nbformat": 4,
  "nbformat_minor": 0,
  "metadata": {
    "colab": {
      "name": "Pipline",
      "provenance": [],
      "authorship_tag": "ABX9TyPxRdUEnJLRYP+212wrIOYM"
    },
    "kernelspec": {
      "name": "python3",
      "display_name": "Python 3"
    },
    "language_info": {
      "name": "python"
    }
  },
  "cells": [
    {
      "cell_type": "code",
      "source": [
        "from sklearn.svm import SVC\n",
        "\n",
        "#from sklearn.datasets import load_breast_cancer\n",
        "\n",
        "from sklearn.model_selection import train_test_split\n",
        "\n",
        "from sklearn.preprocessing import MinMaxScaler\n",
        "import pandas as pd\n",
        "import numpy as np\n"
      ],
      "metadata": {
        "id": "ekOe1PG8whd2"
      },
      "execution_count": 1,
      "outputs": []
    },
    {
      "cell_type": "code",
      "source": [
        "train_df = pd.read_csv('/content/train_encoded_data.csv')"
      ],
      "metadata": {
        "id": "B_PHRURDwhiP"
      },
      "execution_count": 2,
      "outputs": []
    },
    {
      "cell_type": "code",
      "source": [
        "train_df.drop(columns='file_name', inplace=True)"
      ],
      "metadata": {
        "id": "jJdlbFqdwhmN"
      },
      "execution_count": 3,
      "outputs": []
    },
    {
      "cell_type": "code",
      "source": [
        "train_x = train_df.drop(columns=['id', 'covid19'])\n",
        "train_y = train_df['covid19']"
      ],
      "metadata": {
        "id": "t0xEPfFFxFDb"
      },
      "execution_count": 4,
      "outputs": []
    },
    {
      "cell_type": "code",
      "source": [
        "x_train, x_test, y_train, y_test = train_test_split(train_x, train_y,\n",
        "\n",
        "                                                    stratify=train_y, random_state=41)\n",
        "\n",
        "\n",
        "\n",
        "scaler = MinMaxScaler()\n",
        "\n",
        "scaler.fit(x_train)\n",
        "\n",
        "\n",
        "\n",
        "x_train_scaled = scaler.transform(x_train)\n",
        "\n",
        "x_test_scaled = scaler.transform(x_test)\n",
        "\n",
        "\n",
        "\n",
        "svc = SVC(C=1, kernel='rbf', gamma='auto', degree=3)\n",
        "\n",
        "svc.fit(x_train_scaled, y_train)\n",
        "\n",
        "\n",
        "\n",
        "pre_train_score = svc.score(x_train_scaled, y_train)\n",
        "\n",
        "print('{:.3f}'.format(pre_train_score))\n",
        "\n",
        "# 0.955\n",
        "\n",
        "\n",
        "\n",
        "pre_test_score = svc.score(x_test_scaled, y_test)\n",
        "\n",
        "print('{:.3f}'.format(pre_test_score))\n",
        "\n"
      ],
      "metadata": {
        "colab": {
          "base_uri": "https://localhost:8080/"
        },
        "id": "IxGnHlMawhpO",
        "outputId": "150d4be0-99a0-4d78-ecff-2d91556559d0"
      },
      "execution_count": 5,
      "outputs": [
        {
          "output_type": "stream",
          "name": "stdout",
          "text": [
            "0.920\n",
            "0.919\n"
          ]
        }
      ]
    },
    {
      "cell_type": "code",
      "source": [
        "from sklearn.model_selection import GridSearchCV\n",
        "\n",
        "import numpy as np\n",
        "\n",
        "\n",
        "\n",
        "values = np.array([0.001, 0.01, 0.1, 1, 10, 100])\n",
        "\n",
        "params = {'C':values, 'gamma':values}\n",
        "\n",
        "\n",
        "\n",
        "grid = GridSearchCV(SVC(), param_grid=params, cv=5)\n",
        "\n",
        "grid.fit(x_train_scaled, y_train)\n",
        "\n",
        "\n",
        "\n",
        "print('optimal parameter {}'.format(grid.best_params_))\n",
        "\n",
        "# optimal parameter {'C': 1.0, 'gamma': 1.0}\n",
        "\n",
        "\n",
        "\n",
        "print('best CV score {:.3f}'.format(grid.best_score_))\n",
        "\n",
        "# best CV score 0.981\n",
        "\n",
        "\n",
        "\n",
        "print('best test score {:.3f}'.format(grid.score(x_test_scaled, y_test)))\n",
        "\n",
        "# best test score 0.944"
      ],
      "metadata": {
        "id": "VrWJIh5oxNCp"
      },
      "execution_count": null,
      "outputs": []
    },
    {
      "cell_type": "code",
      "source": [
        "\n",
        "import sys\n",
        "!{sys.executable} -m pip install mglearn"
      ],
      "metadata": {
        "id": "XLcdmgU5yUOl"
      },
      "execution_count": null,
      "outputs": []
    },
    {
      "cell_type": "code",
      "source": [
        "from mglearn.plots import plot_improper_processing\n",
        "\n",
        "import matplotlib.pyplot as plt\n",
        "\n",
        "\n",
        "\n",
        "plot_improper_processing()\n",
        "\n",
        "plt.show()"
      ],
      "metadata": {
        "id": "dzpeY7u4xppf"
      },
      "execution_count": null,
      "outputs": []
    },
    {
      "cell_type": "code",
      "source": [
        "from sklearn.pipeline import Pipeline\n",
        "\n",
        "from sklearn.preprocessing import StandardScaler\n",
        "from sklearn.neural_network import MLPClassifier\n",
        "\n",
        "\n",
        "scaler_tuple = ('scaler', StandardScaler())\n",
        "\n",
        "model_tuple = ('MLP', MLPClassifier)\n",
        "\n",
        "\n",
        "\n",
        "pipe = Pipeline([scaler_tuple, model_tuple])\n",
        "\n",
        "pipe.fit(x_train, y_train)\n",
        "\n",
        "\n",
        "\n",
        "#pipe.fit은 첫 번째 단계(scaler)의 fit 매소드를 호출하여 훈련데이터를 변환하고,\n",
        "\n",
        "#마지막에는 변환된 데이터에 SVM모델을 학습시킵니다. 테스트 세트로 평가하려면 pipe.score를 호출합니다.\n",
        "\n",
        "pipe_train_score = pipe.score(x_train, y_train)\n",
        "\n",
        "pipe_test_score = pipe.score(x_test, y_test)\n",
        "\n",
        "\n",
        "\n",
        "print('{:.3f}'.format(pipe_train_score))\n",
        "\n",
        "\n",
        "\n",
        "\n",
        "print('{:.3f}'.format(pipe_test_score))\n",
        "\n"
      ],
      "metadata": {
        "id": "r6ERgFrDxyBw"
      },
      "execution_count": null,
      "outputs": []
    },
    {
      "cell_type": "code",
      "source": [
        "test_df = pd.read_csv('/content/test_gender_mfcc.csv')\n",
        "test_x = test_df.drop(columns=['id','age'])\n"
      ],
      "metadata": {
        "id": "2Uak7N6dx47g"
      },
      "execution_count": null,
      "outputs": []
    },
    {
      "cell_type": "code",
      "source": [
        "y_preds = pipe.predict(test_x)"
      ],
      "metadata": {
        "id": "cfMSdMErznBF"
      },
      "execution_count": null,
      "outputs": []
    },
    {
      "cell_type": "code",
      "source": [
        "y_preds"
      ],
      "metadata": {
        "id": "a4PIgvuX0nLu"
      },
      "execution_count": null,
      "outputs": []
    },
    {
      "cell_type": "code",
      "source": [
        "submission = pd.read_csv( './sample_submission.csv')\n",
        "submission['covid19'] = y_preds\n",
        "submission.to_csv(  './submit16.csv', index=False)"
      ],
      "metadata": {
        "id": "0Qoxrb-C0iW9"
      },
      "execution_count": null,
      "outputs": []
    },
    {
      "cell_type": "code",
      "source": [
        ""
      ],
      "metadata": {
        "id": "OAs-jN_b0w54"
      },
      "execution_count": null,
      "outputs": []
    }
  ]
}